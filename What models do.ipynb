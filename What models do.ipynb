{
 "cells": [
  {
   "cell_type": "markdown",
   "metadata": {},
   "source": [
    "# 1. Try to model the result of a coin toss. In your model, include any features that you think important in explaining the result. Discuss with your mentor about the pros and cons of adding too many features into your model."
   ]
  },
  {
   "cell_type": "markdown",
   "metadata": {},
   "source": [
    "Assume that the coin is fair\n",
    "  1. The weight of the coin\n",
    "  2. The surface of which the coin will be tossed on\n",
    "  3. Air resistence\n",
    "  4. The angle of when the coin being tossed from\n",
    "  5. The force applied on the coin\n",
    "  \n",
    "  Pros: we will have a lot of data, which we can extract out the possibilities more accurately.\n",
    "  \n",
    "  Cons: Too many features will result in more experiments and with more experiments we could have more errors or unknown variables, which later will result in irrelavent data."
   ]
  },
  {
   "cell_type": "markdown",
   "metadata": {},
   "source": [
    "# 2. If you ever used Netflix, you should already have realized that it provides some recommendations for you to watch. In data science, this is an example of the so called recommendations systems. Read this non-technical blog post of Netflix about how they model their recommendations systems. Then, derive the features they use in their recommendations engines and discuss what else can be incorporated into this model."
   ]
  },
  {
   "cell_type": "markdown",
   "metadata": {},
   "source": [
    "These are features that netfilx model their recommendations system\n",
    "  1. viewers' interactions with their service (such as your viewing history and how you rated other titles)\n",
    "  2. other members with similar tastes and preferences on thier service\n",
    "  3. information about the titles, such as their genre, categories, actors, release year, etc.\n",
    "  4. devices viewers are watching netflix on\n",
    "  5. how long viewers watch on netflix\n",
    "  \n",
    "other features Netflix can incorate in thier model\n",
    "  1. coperate with other web base entertainment service such as youtube or facebook to gather more information about what viewers are interested in such as viewers might be interested in football and watch a lot of football videos on youtube, then Netflix can reccomend movies or series about football.\n",
    "  2. using method of elimination meaning some viewers might try to watch series or movies that they interested in, but turn out they don't like it and stop watching midway, so Netflix could eliminate that type of genre from their recommendations."
   ]
  },
  {
   "cell_type": "code",
   "execution_count": null,
   "metadata": {},
   "outputs": [],
   "source": []
  }
 ],
 "metadata": {
  "kernelspec": {
   "display_name": "Python 3",
   "language": "python",
   "name": "python3"
  },
  "language_info": {
   "codemirror_mode": {
    "name": "ipython",
    "version": 3
   },
   "file_extension": ".py",
   "mimetype": "text/x-python",
   "name": "python",
   "nbconvert_exporter": "python",
   "pygments_lexer": "ipython3",
   "version": "3.6.8"
  }
 },
 "nbformat": 4,
 "nbformat_minor": 2
}
